{
 "cells": [
  {
   "cell_type": "code",
   "execution_count": 115,
   "metadata": {},
   "outputs": [
    {
     "name": "stdout",
     "output_type": "stream",
     "text": [
      "['Undergrad' 'MaritalStatus' 'TaxableIncome' 'WorkExperience' 'Urban']\n"
     ]
    }
   ],
   "source": [
    "import numpy as np\n",
    "import matplotlib.pyplot as plt\n",
    "def read_csv(filename):\n",
    "    arr = np.loadtxt(filename,\n",
    "                 delimiter=\",\", skiprows=0, dtype=str)\n",
    "    features = arr[0]\n",
    "    arr = arr[1:-1]\n",
    "    return arr,features\n",
    "data,features = read_csv(\"DT_data.csv\")\n",
    "print(features)\n",
    "\n",
    "label_num = 2\n",
    "X = data\n",
    "X = np.delete(data,obj=label_num,axis=1)\n",
    "y = np.where(data[:, label_num].astype(int) <= 30000, 1, 0)  # 信誉度分类\n",
    "features = np.delete(features,label_num)"
   ]
  },
  {
   "cell_type": "code",
   "execution_count": 119,
   "metadata": {},
   "outputs": [
    {
     "data": {
      "text/plain": [
       "array(['Undergrad', 'MaritalStatus', 'WorkExperience', 'Urban'],\n",
       "      dtype='<U14')"
      ]
     },
     "execution_count": 119,
     "metadata": {},
     "output_type": "execute_result"
    }
   ],
   "source": []
  },
  {
   "cell_type": "code",
   "execution_count": 116,
   "metadata": {},
   "outputs": [
    {
     "name": "stdout",
     "output_type": "stream",
     "text": [
      "{'NO': 0, 'YES': 1}\n",
      "{'Divorced': 0, 'Married': 1, 'Single': 2}\n",
      "{'NO': 0, 'YES': 1}\n"
     ]
    }
   ],
   "source": [
    "\n",
    "# 将文本特征转换为数值特征\n",
    "X_encoded = np.zeros(X.shape)\n",
    "for i in range(X.shape[1]):\n",
    "    if i != 2:\n",
    "        unique_labels = np.unique(X[:, i])\n",
    "        label_mapping = {label: j for j, label in enumerate(unique_labels)}\n",
    "        print(label_mapping)\n",
    "        X_encoded[:, i] = np.array([label_mapping[label] for label in X[:, i]])\n",
    "\n",
    "    else:\n",
    "        X_encoded[:,i] = X[:,i]\n",
    "#print(y)"
   ]
  },
  {
   "cell_type": "code",
   "execution_count": null,
   "metadata": {},
   "outputs": [],
   "source": []
  },
  {
   "cell_type": "code",
   "execution_count": 206,
   "metadata": {},
   "outputs": [],
   "source": [
    "class Node:\n",
    "    def __init__(self, feature=None, threshold=None, value=None,num=0):\n",
    "        self.feature = feature\n",
    "        self.threshold = threshold\n",
    "        self.left = None\n",
    "        self.right = None\n",
    "        self.value = value\n",
    "        self.num = num\n",
    "class DecisionTree:\n",
    "    def __init__(self, min_samples_split=2, max_depth=10):\n",
    "        self.min_samples_split = min_samples_split\n",
    "        self.max_depth = max_depth\n",
    "        self.root = None\n",
    "    def gini_index(self,labels):\n",
    "        #np.unique函数\n",
    "        _,counts = np.unique(labels,return_counts=True)\n",
    "        probs = counts / len(labels)\n",
    "        gini = 1-np.sum(probs ** 2)\n",
    "        \n",
    "        return gini\n",
    "    def split_dataset(self,X,y,feature,threshold):\n",
    "        left_mask = X[:,feature] <= threshold\n",
    "        right_mask = X[:,feature] > threshold\n",
    "        #print('y[right_mask]',y[right_mask])\n",
    "        return X[left_mask],y[left_mask], X[right_mask], y[right_mask]\n",
    "    def get_best_split(self,X,y):\n",
    "        best_feature,best_threshold, gini =None, None, np.inf\n",
    "        y_left = y_right = None\n",
    "        for i in range(X.shape[1]):\n",
    "            thresholds = np.unique(X[:,i])\n",
    "            #print(thresholds)\n",
    "            for threshold in thresholds:\n",
    "                X_left,y_left,X_right,y_right = self.split_dataset(X,y,i,threshold)\n",
    "                tmp_gini = (len(y_left)*self.gini_index(y_left) + len(y_right)*self.gini_index(y_right))/len(y)\n",
    "                if tmp_gini < gini:\n",
    "                    gini = tmp_gini\n",
    "                    best_threshold = threshold\n",
    "                    best_feature = i\n",
    "        #print(\"best_feature ={} ,best_threshold={} \".format(best_feature,best_threshold))\n",
    "        X_left,y_left,X_right,y_right = self.split_dataset(X,y,best_feature,best_threshold)\n",
    "        #print(\"y_left and right:\",y_left,y_right)\n",
    "        if len(y_left)==0 or len(y_right)==0:\n",
    "            # print(\"best_feature ={} ,best_threshold={} \".format(best_feature,best_threshold))\n",
    "            # print(best_feature,best_threshold)\n",
    "            # X_left,y_left,X_right,y_right = self.split_dataset(X,y,best_feature,best_threshold)\n",
    "            # print('y_left',y_left,'y_right',y_right)\n",
    "            return None,None,1\n",
    "        return best_feature,best_threshold,gini\n",
    "    def build_tree(self,X,y,depth=0):\n",
    "        label = np.argmax(np.bincount(y))\n",
    "        #注意两个中止条件\n",
    "        # if len(y) == 0:\n",
    "        #     return None\n",
    "        if len(np.unique(y))==1:\n",
    "        #只有叶子节点需要value,其他节点不需要\n",
    "            #print(y[0])\n",
    "            return Node(value=y[0], num=len(y))\n",
    "        if depth>self.max_depth:\n",
    "            return Node(value=label, num=len(y))\n",
    "        best_feature,best_threshold,gini = self.get_best_split(X,y)\n",
    "        if best_feature==None:\n",
    "            return Node(value=label, num=len(y))\n",
    "        #print(\"best_feature ={} ,best_threshold={} , depth={} \".format(features[best_feature],best_threshold,depth))\n",
    "\n",
    "        node = Node(feature=best_feature,threshold=best_threshold,num= len(y),value=label)\n",
    "        X_left,y_left,X_right,y_right = self.split_dataset(X,y,best_feature,best_threshold)\n",
    "        node.left = self.build_tree(X_left,y_left,depth+1)\n",
    "        node.right = self.build_tree(X_right,y_right,depth+1)\n",
    "        return node\n",
    "    #再封装一层\n",
    "    def fit(self,X,y):\n",
    "        self.root = self.build_tree(X,y)\n",
    "    def prune_tree(self,node,X,y):\n",
    "        \n",
    "        if node.left == None and node.right == None:\n",
    "            return\n",
    "        if node.left != None:\n",
    "           self.prune_tree(node.left,X,y)\n",
    "        if node.right != None:\n",
    "           self.prune_tree(node.right,X,y)# 这里没有return\n",
    "\n",
    "        acc_before = self.cal_acc(X,y)\n",
    "        temp_left = node.left\n",
    "        temp_right = node.right\n",
    "        if(temp_left.num>temp_right.num):\n",
    "                node.value = temp_left.value\n",
    "        else:\n",
    "                node.value = temp_right.value\n",
    "\n",
    "        node.left = None\n",
    "        node.right = None   \n",
    "        #print(temp_left==None)\n",
    "        acc_after = self.cal_acc(X,y)\n",
    "        #print(\"acc_before\",acc_before,\"acc_after\",acc_after)\n",
    "        if (acc_after<acc_before):\n",
    "            node.left = temp_left\n",
    "            node.right = temp_right\n",
    "            #print(\"node.left \",node.left.value,\"node.right \",node.right.value)\n",
    "            #node.value = None\n",
    "        # else:\n",
    "        #     print('prune_tree',acc_before,acc_after)\n",
    "\n",
    "    \n",
    "    def predict(self,X):\n",
    "        \n",
    "        y = np.zeros(X.shape[0])\n",
    "        for index,sample in enumerate(X):\n",
    "            node = self.root\n",
    "            while node.left !=None and node.right != None:\n",
    "                feature = node.feature\n",
    "                #print(\"node.threshold \",node.threshold)\n",
    "                #print(sample[feature])\n",
    "                if sample[feature] < node.threshold:\n",
    "                    node = node.left\n",
    "                else:\n",
    "                    node = node.right\n",
    "            assert node.value!=None\n",
    "            y[index] = node.value\n",
    "        return y\n",
    "    \n",
    "    def cal_acc(self,X,y):\n",
    "        cnt = 0\n",
    "        pred = self.predict(X)\n",
    "        #print(y)\n",
    "        acc = np.sum(pred==y)/len(y)\n",
    "        return acc"
   ]
  },
  {
   "cell_type": "code",
   "execution_count": 223,
   "metadata": {},
   "outputs": [
    {
     "name": "stdout",
     "output_type": "stream",
     "text": [
      "accuracy before prune 0.7226890756302521\n",
      "accuracy after prune  0.773109243697479\n",
      "accuracy before prune 0.7563025210084033\n",
      "accuracy after prune  0.7899159663865546\n",
      "accuracy before prune 0.7058823529411765\n",
      "accuracy after prune  0.773109243697479\n",
      "accuracy before prune 0.7478991596638656\n",
      "accuracy after prune  0.7899159663865546\n",
      "accuracy before prune 0.7478991596638656\n",
      "accuracy after prune  0.7983193277310925\n",
      "[0.773109243697479, 0.7899159663865546, 0.773109243697479, 0.7899159663865546, 0.7983193277310925]\n"
     ]
    }
   ],
   "source": [
    "# 设置随机数种子,确保每次划分结果一致\n",
    "np.random.seed(42)\n",
    "# 计算测试集的样本数\n",
    "test_size = int(X.shape[0] * 0.3)\n",
    "K = 5 #5格交叉验证\n",
    "fold_size = X.shape[0] // K\n",
    "acc_list = []\n",
    "# 重复 5 次划分过程\n",
    "for i in range(K):\n",
    "    val_start = i*fold_size\n",
    "    val_end = (i+1)*fold_size\n",
    "    np.random.seed(i)\n",
    "    # 计算测试集的样本数\n",
    "    test_size = int(data.shape[0] * 0.2)\n",
    "    train_indices = np.concatenate((indices[:val_start], indices[val_end:])) #数组拼接\n",
    "    # 按 80:20 的比例划分训练集和测试集\n",
    "    indices = np.random.permutation(data.shape[0])\n",
    "    test_indices = indices[:test_size]\n",
    "    train_indices = indices[test_size:]\n",
    "\n",
    "    X_train = X_encoded[train_indices, :]\n",
    "    y_train = y[train_indices]\n",
    "    X_val = X_encoded[val_start:val_end,:]\n",
    "    y_val = y[val_start:val_end]\n",
    "    X_test = X_encoded[test_indices, :]\n",
    "    y_test = y[test_indices]\n",
    "    \n",
    "    # print(f\"\\n划分结果 {i+1}:\")\n",
    "    # print(\"训练集:\")\n",
    "    # print(X_train)\n",
    "    # print(y_train)\n",
    "    # print(\"测试集:\")\n",
    "    # print(X_test)\n",
    "    # print(y_test)\n",
    "    tree = DecisionTree(max_depth=10)\n",
    "    tree.fit(X_train,y_train)\n",
    "    print('accuracy before prune',tree.cal_acc(X_test,y_test))\n",
    "    tree.prune_tree(tree.root,X_val,y_val)\n",
    "    print('accuracy after prune ',tree.cal_acc(X_test,y_test))\n",
    "    acc = tree.cal_acc(X_test,y_test)\n",
    "    acc_list.append(acc)\n",
    "print(acc_list)"
   ]
  },
  {
   "cell_type": "code",
   "execution_count": 221,
   "metadata": {},
   "outputs": [
    {
     "name": "stdout",
     "output_type": "stream",
     "text": [
      "0.7929883138564274\n"
     ]
    }
   ],
   "source": [
    "tree = DecisionTree(max_depth=3)\n",
    "tree.fit(X_encoded,y)\n",
    "tree.prune_tree(tree.root,X_encoded,y)\n",
    "#print(tree.get_best_split(X_encoded,y))\n",
    "print(tree.cal_acc(X_encoded,y))\n",
    "# print(tree.cal_acc(X_encoded,y))\n"
   ]
  },
  {
   "cell_type": "code",
   "execution_count": 222,
   "metadata": {},
   "outputs": [
    {
     "name": "stdout",
     "output_type": "stream",
     "text": [
      "0\n"
     ]
    }
   ],
   "source": [
    "def traverse(node,depth=0):\n",
    "    if node==None:\n",
    "        return \n",
    "    if node.left is None and node.right is None:\n",
    "        print(node.value)\n",
    "        return\n",
    "    print(\"father_Node\",features[node.feature],node.threshold,depth)\n",
    "    traverse(node.left,depth+1)\n",
    "    traverse(node.right,depth+1)\n",
    "traverse(tree.root)"
   ]
  },
  {
   "cell_type": "code",
   "execution_count": 148,
   "metadata": {},
   "outputs": [
    {
     "data": {
      "image/png": "[encoded data removed]",
      "text/plain": [
       "<Figure size 1200x800 with 1 Axes>"
      ]
     },
     "metadata": {},
     "output_type": "display_data"
    }
   ],
   "source": [
    "import numpy as np\n",
    "import matplotlib.pyplot as plt\n",
    "import networkx as nx\n",
    "\n",
    "def plot_tree(root, feature_names=None):\n",
    "    \"\"\"\n",
    "    Plots a decision tree using NetworkX and Matplotlib.\n",
    "    \n",
    "    Parameters:\n",
    "    root (Node): The root node of the decision tree.\n",
    "    feature_names (list): A list of feature names (optional).\n",
    "    \"\"\"\n",
    "    G = nx.DiGraph()\n",
    "    \n",
    "    def dfs(node, parent=None):\n",
    "        if node is None:\n",
    "            return\n",
    "        \n",
    "        node_label = \"\"\n",
    "        if node.feature is not None:\n",
    "            if feature_names is not None:\n",
    "                node_label += f\"Feature {feature_names[node.feature]} <= {node.threshold}\"\n",
    "            else:\n",
    "                node_label += f\"Feature {node.feature} <= {node.threshold}\"\n",
    "        if node.value is not None:\n",
    "            node_label += f\"\\nValue: {node.value}\"\n",
    "        \n",
    "        G.add_node(node, label=node_label)\n",
    "        if parent is not None:\n",
    "            G.add_edge(parent, node)\n",
    "        \n",
    "        dfs(node.left, node)\n",
    "        dfs(node.right, node)\n",
    "    \n",
    "    dfs(root)\n",
    "    \n",
    "    pos = nx.spring_layout(G)\n",
    "    # for it in G.nodes():\n",
    "    #     print(it.feature)\n",
    "    fig, ax = plt.subplots(figsize=(12, 8))\n",
    "    kv = {}\n",
    "    for node in G.nodes:\n",
    "        if node.feature:\n",
    "            kv[node] = node.feature#features[node.feature]\n",
    "        else:\n",
    "            kv[node] = node.value\n",
    "    nx.draw(G, pos, with_labels=True, labels=kv, ax=ax)\n",
    "    plt.show()\n",
    "plot_tree(tree.root,)"
   ]
  },
  {
   "cell_type": "code",
   "execution_count": 142,
   "metadata": {},
   "outputs": [
    {
     "ename": "TypeError",
     "evalue": "'NoneType' object is not subscriptable",
     "output_type": "error",
     "traceback": [
      "\u001b[1;31m---------------------------------------------------------------------------\u001b[0m",
      "\u001b[1;31mTypeError\u001b[0m                                 Traceback (most recent call last)",
      "Cell \u001b[1;32mIn[142], line 47\u001b[0m\n\u001b[0;32m     44\u001b[0m     dfs(root, \u001b[38;5;28;01mNone\u001b[39;00m)\n\u001b[0;32m     46\u001b[0m     dot\u001b[38;5;241m.\u001b[39mrender(\u001b[38;5;124m'\u001b[39m\u001b[38;5;124mdecision_tree\u001b[39m\u001b[38;5;124m'\u001b[39m, view\u001b[38;5;241m=\u001b[39m\u001b[38;5;28;01mTrue\u001b[39;00m)\n\u001b[1;32m---> 47\u001b[0m plot_tree(tree\u001b[38;5;241m.\u001b[39mroot,)\n",
      "Cell \u001b[1;32mIn[142], line 44\u001b[0m, in \u001b[0;36mplot_tree\u001b[1;34m(root, feature_names)\u001b[0m\n\u001b[0;32m     41\u001b[0m     dfs(node\u001b[38;5;241m.\u001b[39mleft, node)\n\u001b[0;32m     42\u001b[0m     dfs(node\u001b[38;5;241m.\u001b[39mright, node)\n\u001b[1;32m---> 44\u001b[0m dfs(root, \u001b[38;5;28;01mNone\u001b[39;00m)\n\u001b[0;32m     46\u001b[0m dot\u001b[38;5;241m.\u001b[39mrender(\u001b[38;5;124m'\u001b[39m\u001b[38;5;124mdecision_tree\u001b[39m\u001b[38;5;124m'\u001b[39m, view\u001b[38;5;241m=\u001b[39m\u001b[38;5;28;01mTrue\u001b[39;00m)\n",
      "Cell \u001b[1;32mIn[142], line 41\u001b[0m, in \u001b[0;36mplot_tree.<locals>.dfs\u001b[1;34m(node, parent)\u001b[0m\n\u001b[0;32m     38\u001b[0m     \u001b[38;5;28;01melse\u001b[39;00m:\n\u001b[0;32m     39\u001b[0m         dot\u001b[38;5;241m.\u001b[39medge(\u001b[38;5;28mstr\u001b[39m(parent\u001b[38;5;241m.\u001b[39mnum), \u001b[38;5;28mstr\u001b[39m(node\u001b[38;5;241m.\u001b[39mnum), label\u001b[38;5;241m=\u001b[39m\u001b[38;5;124mf\u001b[39m\u001b[38;5;124m\"\u001b[39m\u001b[38;5;124mValue: \u001b[39m\u001b[38;5;132;01m{\u001b[39;00mnode\u001b[38;5;241m.\u001b[39mvalue\u001b[38;5;132;01m}\u001b[39;00m\u001b[38;5;124m\"\u001b[39m)\n\u001b[1;32m---> 41\u001b[0m dfs(node\u001b[38;5;241m.\u001b[39mleft, node)\n\u001b[0;32m     42\u001b[0m dfs(node\u001b[38;5;241m.\u001b[39mright, node)\n",
      "Cell \u001b[1;32mIn[142], line 35\u001b[0m, in \u001b[0;36mplot_tree.<locals>.dfs\u001b[1;34m(node, parent)\u001b[0m\n\u001b[0;32m     33\u001b[0m \u001b[38;5;28;01mif\u001b[39;00m node\u001b[38;5;241m.\u001b[39mfeature \u001b[38;5;129;01mis\u001b[39;00m \u001b[38;5;129;01mnot\u001b[39;00m \u001b[38;5;28;01mNone\u001b[39;00m:\n\u001b[0;32m     34\u001b[0m     \u001b[38;5;28;01mif\u001b[39;00m node\u001b[38;5;241m.\u001b[39mthreshold \u001b[38;5;241m>\u001b[39m\u001b[38;5;241m=\u001b[39m \u001b[38;5;241m0\u001b[39m:\n\u001b[1;32m---> 35\u001b[0m         dot\u001b[38;5;241m.\u001b[39medge(\u001b[38;5;28mstr\u001b[39m(parent\u001b[38;5;241m.\u001b[39mnum), \u001b[38;5;28mstr\u001b[39m(node\u001b[38;5;241m.\u001b[39mnum), label\u001b[38;5;241m=\u001b[39m\u001b[38;5;124mf\u001b[39m\u001b[38;5;124m\"\u001b[39m\u001b[38;5;132;01m{\u001b[39;00mfeature_names[node\u001b[38;5;241m.\u001b[39mfeature]\u001b[38;5;132;01m}\u001b[39;00m\u001b[38;5;124m <= \u001b[39m\u001b[38;5;132;01m{\u001b[39;00mnode\u001b[38;5;241m.\u001b[39mthreshold\u001b[38;5;132;01m}\u001b[39;00m\u001b[38;5;124m\"\u001b[39m)\n\u001b[0;32m     36\u001b[0m     \u001b[38;5;28;01melse\u001b[39;00m:\n\u001b[0;32m     37\u001b[0m         dot\u001b[38;5;241m.\u001b[39medge(\u001b[38;5;28mstr\u001b[39m(parent\u001b[38;5;241m.\u001b[39mnum), \u001b[38;5;28mstr\u001b[39m(node\u001b[38;5;241m.\u001b[39mnum), label\u001b[38;5;241m=\u001b[39m\u001b[38;5;124mf\u001b[39m\u001b[38;5;124m\"\u001b[39m\u001b[38;5;132;01m{\u001b[39;00mfeature_names[node\u001b[38;5;241m.\u001b[39mfeature]\u001b[38;5;132;01m}\u001b[39;00m\u001b[38;5;124m > \u001b[39m\u001b[38;5;132;01m{\u001b[39;00m\u001b[38;5;241m-\u001b[39mnode\u001b[38;5;241m.\u001b[39mthreshold\u001b[38;5;132;01m}\u001b[39;00m\u001b[38;5;124m\"\u001b[39m)\n",
      "\u001b[1;31mTypeError\u001b[0m: 'NoneType' object is not subscriptable"
     ]
    }
   ],
   "source": [
    "import numpy as np\n",
    "import matplotlib.pyplot as plt\n",
    "import networkx as nx\n",
    "import graphviz\n",
    "\n",
    "def plot_tree(root, feature_names=None):\n",
    "    \"\"\"\n",
    "    Plots a decision tree using NetworkX and Matplotlib.\n",
    "    \n",
    "    Parameters:\n",
    "    root (Node): The root node of the decision tree.\n",
    "    feature_names (list): A list of feature names (optional).\n",
    "    \"\"\"\n",
    "    G = nx.DiGraph()\n",
    "    dot = graphviz.Digraph()\n",
    "    \n",
    "    def dfs(node, parent=None):\n",
    "        if node is None:\n",
    "            return\n",
    "        \n",
    "        node_label = \"\"\n",
    "        if node.feature is not None:\n",
    "            if feature_names is not None:\n",
    "                node_label += f\"Feature {feature_names[node.feature]}\"\n",
    "            else:\n",
    "                node_label += f\"Feature {node.feature}\"\n",
    "            node_label += f\" <= {node.threshold}\\nLeft: True\\nRight: False\"\n",
    "        if node.value is not None:\n",
    "            node_label += f\"\\nValue: {node.value}\"\n",
    "        \n",
    "        dot.node(str(node.num), node_label)\n",
    "        if parent is not None:\n",
    "            if node.feature is not None:\n",
    "                if node.threshold >= 0:\n",
    "                    dot.edge(str(parent.num), str(node.num), label=f\"{feature_names[node.feature]} <= {node.threshold}\")\n",
    "                else:\n",
    "                    dot.edge(str(parent.num), str(node.num), label=f\"{feature_names[node.feature]} > {-node.threshold}\")\n",
    "            else:\n",
    "                dot.edge(str(parent.num), str(node.num), label=f\"Value: {node.value}\")\n",
    "        \n",
    "        dfs(node.left, node)\n",
    "        dfs(node.right, node)\n",
    "    \n",
    "    dfs(root, None)\n",
    "    \n",
    "    dot.render('decision_tree', view=True)\n",
    "plot_tree(tree.root,)"
   ]
  },
  {
   "cell_type": "code",
   "execution_count": 136,
   "metadata": {},
   "outputs": [
    {
     "name": "stdout",
     "output_type": "stream",
     "text": [
      "best_feature =WorkExperience ,best_threshold=24.0 , depth=0 \n",
      "best_feature =WorkExperience ,best_threshold=17.0 , depth=1 \n",
      "best_feature =WorkExperience ,best_threshold=0.0 , depth=2 \n",
      "best_feature =Undergrad ,best_threshold=0.0 , depth=3 \n",
      "best_feature =Urban ,best_threshold=0.0 , depth=3 \n",
      "best_feature =Urban ,best_threshold=0.0 , depth=2 \n",
      "best_feature =Undergrad ,best_threshold=0.0 , depth=3 \n",
      "best_feature =WorkExperience ,best_threshold=20.0 , depth=3 \n",
      "best_feature =WorkExperience ,best_threshold=25.0 , depth=1 \n",
      "best_feature =Urban ,best_threshold=0.0 , depth=2 \n",
      "best_feature =MaritalStatus ,best_threshold=0.0 , depth=3 \n",
      "best_feature =WorkExperience ,best_threshold=29.0 , depth=3 \n"
     ]
    },
    {
     "ename": "TypeError",
     "evalue": "list indices must be integers or slices, not NoneType",
     "output_type": "error",
     "traceback": [
      "\u001b[1;31m---------------------------------------------------------------------------\u001b[0m",
      "\u001b[1;31mTypeError\u001b[0m                                 Traceback (most recent call last)",
      "Cell \u001b[1;32mIn[136], line 26\u001b[0m\n\u001b[0;32m     24\u001b[0m tree \u001b[38;5;241m=\u001b[39m DecisionTree(min_samples_split\u001b[38;5;241m=\u001b[39m\u001b[38;5;241m2\u001b[39m, max_depth\u001b[38;5;241m=\u001b[39m\u001b[38;5;241m3\u001b[39m)\n\u001b[0;32m     25\u001b[0m tree\u001b[38;5;241m.\u001b[39mfit(X_encoded ,y)\n\u001b[1;32m---> 26\u001b[0m dot \u001b[38;5;241m=\u001b[39m visualize_tree(tree\u001b[38;5;241m.\u001b[39mroot, feature_names)\n\u001b[0;32m     27\u001b[0m dot\u001b[38;5;241m.\u001b[39mrender(\u001b[38;5;124m'\u001b[39m\u001b[38;5;124mdecision_tree.png\u001b[39m\u001b[38;5;124m'\u001b[39m, view\u001b[38;5;241m=\u001b[39m\u001b[38;5;28;01mTrue\u001b[39;00m)\n",
      "Cell \u001b[1;32mIn[136], line 16\u001b[0m, in \u001b[0;36mvisualize_tree\u001b[1;34m(node, feature_names, dot, parent, is_left)\u001b[0m\n\u001b[0;32m     13\u001b[0m dot\u001b[38;5;241m.\u001b[39mnode(\u001b[38;5;28mstr\u001b[39m(node\u001b[38;5;241m.\u001b[39mnum), \u001b[38;5;124mf\u001b[39m\u001b[38;5;124m\"\u001b[39m\u001b[38;5;124mFeature \u001b[39m\u001b[38;5;132;01m{\u001b[39;00mnode\u001b[38;5;241m.\u001b[39mfeature\u001b[38;5;132;01m}\u001b[39;00m\u001b[38;5;130;01m\\n\u001b[39;00m\u001b[38;5;124mThreshold \u001b[39m\u001b[38;5;132;01m{\u001b[39;00mnode\u001b[38;5;241m.\u001b[39mthreshold\u001b[38;5;132;01m}\u001b[39;00m\u001b[38;5;130;01m\\n\u001b[39;00m\u001b[38;5;124mValue \u001b[39m\u001b[38;5;132;01m{\u001b[39;00mnode\u001b[38;5;241m.\u001b[39mvalue\u001b[38;5;132;01m}\u001b[39;00m\u001b[38;5;130;01m\\n\u001b[39;00m\u001b[38;5;124mNum \u001b[39m\u001b[38;5;132;01m{\u001b[39;00mnode\u001b[38;5;241m.\u001b[39mnum\u001b[38;5;132;01m}\u001b[39;00m\u001b[38;5;124m\"\u001b[39m)\n\u001b[0;32m     15\u001b[0m \u001b[38;5;28;01mif\u001b[39;00m node\u001b[38;5;241m.\u001b[39mleft \u001b[38;5;129;01mis\u001b[39;00m \u001b[38;5;129;01mnot\u001b[39;00m \u001b[38;5;28;01mNone\u001b[39;00m:\n\u001b[1;32m---> 16\u001b[0m     visualize_tree(node\u001b[38;5;241m.\u001b[39mleft, feature_names, dot, \u001b[38;5;28mstr\u001b[39m(node\u001b[38;5;241m.\u001b[39mnum), \u001b[38;5;28;01mTrue\u001b[39;00m)\n\u001b[0;32m     17\u001b[0m \u001b[38;5;28;01mif\u001b[39;00m node\u001b[38;5;241m.\u001b[39mright \u001b[38;5;129;01mis\u001b[39;00m \u001b[38;5;129;01mnot\u001b[39;00m \u001b[38;5;28;01mNone\u001b[39;00m:\n\u001b[0;32m     18\u001b[0m     visualize_tree(node\u001b[38;5;241m.\u001b[39mright, feature_names, dot, \u001b[38;5;28mstr\u001b[39m(node\u001b[38;5;241m.\u001b[39mnum), \u001b[38;5;28;01mFalse\u001b[39;00m)\n",
      "Cell \u001b[1;32mIn[136], line 16\u001b[0m, in \u001b[0;36mvisualize_tree\u001b[1;34m(node, feature_names, dot, parent, is_left)\u001b[0m\n\u001b[0;32m     13\u001b[0m dot\u001b[38;5;241m.\u001b[39mnode(\u001b[38;5;28mstr\u001b[39m(node\u001b[38;5;241m.\u001b[39mnum), \u001b[38;5;124mf\u001b[39m\u001b[38;5;124m\"\u001b[39m\u001b[38;5;124mFeature \u001b[39m\u001b[38;5;132;01m{\u001b[39;00mnode\u001b[38;5;241m.\u001b[39mfeature\u001b[38;5;132;01m}\u001b[39;00m\u001b[38;5;130;01m\\n\u001b[39;00m\u001b[38;5;124mThreshold \u001b[39m\u001b[38;5;132;01m{\u001b[39;00mnode\u001b[38;5;241m.\u001b[39mthreshold\u001b[38;5;132;01m}\u001b[39;00m\u001b[38;5;130;01m\\n\u001b[39;00m\u001b[38;5;124mValue \u001b[39m\u001b[38;5;132;01m{\u001b[39;00mnode\u001b[38;5;241m.\u001b[39mvalue\u001b[38;5;132;01m}\u001b[39;00m\u001b[38;5;130;01m\\n\u001b[39;00m\u001b[38;5;124mNum \u001b[39m\u001b[38;5;132;01m{\u001b[39;00mnode\u001b[38;5;241m.\u001b[39mnum\u001b[38;5;132;01m}\u001b[39;00m\u001b[38;5;124m\"\u001b[39m)\n\u001b[0;32m     15\u001b[0m \u001b[38;5;28;01mif\u001b[39;00m node\u001b[38;5;241m.\u001b[39mleft \u001b[38;5;129;01mis\u001b[39;00m \u001b[38;5;129;01mnot\u001b[39;00m \u001b[38;5;28;01mNone\u001b[39;00m:\n\u001b[1;32m---> 16\u001b[0m     visualize_tree(node\u001b[38;5;241m.\u001b[39mleft, feature_names, dot, \u001b[38;5;28mstr\u001b[39m(node\u001b[38;5;241m.\u001b[39mnum), \u001b[38;5;28;01mTrue\u001b[39;00m)\n\u001b[0;32m     17\u001b[0m \u001b[38;5;28;01mif\u001b[39;00m node\u001b[38;5;241m.\u001b[39mright \u001b[38;5;129;01mis\u001b[39;00m \u001b[38;5;129;01mnot\u001b[39;00m \u001b[38;5;28;01mNone\u001b[39;00m:\n\u001b[0;32m     18\u001b[0m     visualize_tree(node\u001b[38;5;241m.\u001b[39mright, feature_names, dot, \u001b[38;5;28mstr\u001b[39m(node\u001b[38;5;241m.\u001b[39mnum), \u001b[38;5;28;01mFalse\u001b[39;00m)\n",
      "    \u001b[1;31m[... skipping similar frames: visualize_tree at line 16 (1 times)]\u001b[0m\n",
      "Cell \u001b[1;32mIn[136], line 16\u001b[0m, in \u001b[0;36mvisualize_tree\u001b[1;34m(node, feature_names, dot, parent, is_left)\u001b[0m\n\u001b[0;32m     13\u001b[0m dot\u001b[38;5;241m.\u001b[39mnode(\u001b[38;5;28mstr\u001b[39m(node\u001b[38;5;241m.\u001b[39mnum), \u001b[38;5;124mf\u001b[39m\u001b[38;5;124m\"\u001b[39m\u001b[38;5;124mFeature \u001b[39m\u001b[38;5;132;01m{\u001b[39;00mnode\u001b[38;5;241m.\u001b[39mfeature\u001b[38;5;132;01m}\u001b[39;00m\u001b[38;5;130;01m\\n\u001b[39;00m\u001b[38;5;124mThreshold \u001b[39m\u001b[38;5;132;01m{\u001b[39;00mnode\u001b[38;5;241m.\u001b[39mthreshold\u001b[38;5;132;01m}\u001b[39;00m\u001b[38;5;130;01m\\n\u001b[39;00m\u001b[38;5;124mValue \u001b[39m\u001b[38;5;132;01m{\u001b[39;00mnode\u001b[38;5;241m.\u001b[39mvalue\u001b[38;5;132;01m}\u001b[39;00m\u001b[38;5;130;01m\\n\u001b[39;00m\u001b[38;5;124mNum \u001b[39m\u001b[38;5;132;01m{\u001b[39;00mnode\u001b[38;5;241m.\u001b[39mnum\u001b[38;5;132;01m}\u001b[39;00m\u001b[38;5;124m\"\u001b[39m)\n\u001b[0;32m     15\u001b[0m \u001b[38;5;28;01mif\u001b[39;00m node\u001b[38;5;241m.\u001b[39mleft \u001b[38;5;129;01mis\u001b[39;00m \u001b[38;5;129;01mnot\u001b[39;00m \u001b[38;5;28;01mNone\u001b[39;00m:\n\u001b[1;32m---> 16\u001b[0m     visualize_tree(node\u001b[38;5;241m.\u001b[39mleft, feature_names, dot, \u001b[38;5;28mstr\u001b[39m(node\u001b[38;5;241m.\u001b[39mnum), \u001b[38;5;28;01mTrue\u001b[39;00m)\n\u001b[0;32m     17\u001b[0m \u001b[38;5;28;01mif\u001b[39;00m node\u001b[38;5;241m.\u001b[39mright \u001b[38;5;129;01mis\u001b[39;00m \u001b[38;5;129;01mnot\u001b[39;00m \u001b[38;5;28;01mNone\u001b[39;00m:\n\u001b[0;32m     18\u001b[0m     visualize_tree(node\u001b[38;5;241m.\u001b[39mright, feature_names, dot, \u001b[38;5;28mstr\u001b[39m(node\u001b[38;5;241m.\u001b[39mnum), \u001b[38;5;28;01mFalse\u001b[39;00m)\n",
      "Cell \u001b[1;32mIn[136], line 9\u001b[0m, in \u001b[0;36mvisualize_tree\u001b[1;34m(node, feature_names, dot, parent, is_left)\u001b[0m\n\u001b[0;32m      7\u001b[0m \u001b[38;5;28;01mif\u001b[39;00m parent \u001b[38;5;129;01mis\u001b[39;00m \u001b[38;5;129;01mnot\u001b[39;00m \u001b[38;5;28;01mNone\u001b[39;00m:\n\u001b[0;32m      8\u001b[0m     \u001b[38;5;28;01mif\u001b[39;00m is_left:\n\u001b[1;32m----> 9\u001b[0m         dot\u001b[38;5;241m.\u001b[39medge(parent, \u001b[38;5;28mstr\u001b[39m(node\u001b[38;5;241m.\u001b[39mnum), label\u001b[38;5;241m=\u001b[39m\u001b[38;5;124mf\u001b[39m\u001b[38;5;124m\"\u001b[39m\u001b[38;5;132;01m{\u001b[39;00mfeature_names[node\u001b[38;5;241m.\u001b[39mfeature]\u001b[38;5;132;01m}\u001b[39;00m\u001b[38;5;124m <= \u001b[39m\u001b[38;5;132;01m{\u001b[39;00mnode\u001b[38;5;241m.\u001b[39mthreshold\u001b[38;5;132;01m}\u001b[39;00m\u001b[38;5;124m\"\u001b[39m)\n\u001b[0;32m     10\u001b[0m     \u001b[38;5;28;01melse\u001b[39;00m:\n\u001b[0;32m     11\u001b[0m         dot\u001b[38;5;241m.\u001b[39medge(parent, \u001b[38;5;28mstr\u001b[39m(node\u001b[38;5;241m.\u001b[39mnum), label\u001b[38;5;241m=\u001b[39m\u001b[38;5;124mf\u001b[39m\u001b[38;5;124m\"\u001b[39m\u001b[38;5;132;01m{\u001b[39;00mfeature_names[node\u001b[38;5;241m.\u001b[39mfeature]\u001b[38;5;132;01m}\u001b[39;00m\u001b[38;5;124m > \u001b[39m\u001b[38;5;132;01m{\u001b[39;00mnode\u001b[38;5;241m.\u001b[39mthreshold\u001b[38;5;132;01m}\u001b[39;00m\u001b[38;5;124m\"\u001b[39m)\n",
      "\u001b[1;31mTypeError\u001b[0m: list indices must be integers or slices, not NoneType"
     ]
    }
   ],
   "source": []
  },
  {
   "cell_type": "code",
   "execution_count": 95,
   "metadata": {},
   "outputs": [
    {
     "name": "stdout",
     "output_type": "stream",
     "text": [
      "[0 0 0 0 0 0 0 0 0 0 1 0 1 0 0 0 1 0 0 1 0 1 0 0 0 0 0 0 1 0 0 0 0 0 1 0 1\n",
      " 0 1 0 0 0 0 0 0 0 0 0 1 0 0 0 0 1 0 1 0 0 1 0 0 1 0 0 0 0 0 0 1 0 0 0 0 0\n",
      " 0 0 0 0 0 1 0 0 0 0 0 1 0 1 0 1 0 0 0 1 1 0 1 0 1 0 0 0 0 0 0 0 1 0 0 0 1\n",
      " 0 0 0 1 0 0 0 1 0 0 1 1 1 0 0 1 0 0 0 0 0 0 0 0 1 0 1 0 0 1 0 0 1 0 0 0 0\n",
      " 0 0 0 0 1 1 1 0 0 0 1 0 0 0 0 1 0 0 0 0 1 0 0 1 1 0 0 0 0 0 0 1 0 1 1 0 0\n",
      " 0 0 0 1 0 0 0 0 0 1 0 1 0 0 1 0 0 0 0 1 1 0 1 0 0 0 0 0 0 0 0 0 0 0 1 0 0\n",
      " 0 0 0 0 0 0 1 0 1 0 1 1 0 0 0 1 0 0 0 1 0 0 0 0 0 1 1 0 0 0 0 0 0 0 0 0 0\n",
      " 1 0 0 0 0 0 1 0 1 0 0 0 0 0 0 0 0 0 0 1 0 1 0 0 0 1 0 0 0 1 0 0 0 1 0 0 0\n",
      " 0 0 0 0 0 1 0 0 0 0 0 0 0 0 0 0 0 0 0 1 0 0 0 0 0 0 0 0 0 0 1 1 0 1 0 1 0\n",
      " 1 0 0 0 1 1 1 0 0 0 0 0 0 1 1 0 1 0 0 1 0 1 0 1 1 0 0 0 0 1 1 0 0 0 1 0 0\n",
      " 0 0 0 0 0 0 0 0 0 1 0 0 0 0 0 0 0 0 0 0 0 0 1 0 0 0 0 0 1 0 0 0 0 0 0 0 0\n",
      " 0 0 0 0 0 0 0 0 0 0 0 0 0 0 0 0 0 0 0 0 0 1 0 0 0 0 1 1 0 0 1 1 1 0 0 0 1\n",
      " 1 0 1 0 0 0 0 0 0 0 0 0 0 1 1 1 0 0 1 0 0 1 0 0 0 0 0 1 0 0 0 0 0 0 0 0 0\n",
      " 0 0 1 0 0 0 0 0 0 0 1 0 1 0 0 0 0 0 0 0 0 0 0 0 0 1 0 0 1 0 0 0 0 0 0 0 1\n",
      " 0 0 0 0 0 0 1 0 1 0 0 0 0 0 0 1 0 0 0 0 0 0 1 1 0 0 1 0 0 0 0 0 0 0 0 0 0\n",
      " 0 0 1 0 0 0 0 0 0 0 0 0 1 0 0 0 0 0 0 0 1 0 0 0 0 0 0 0 0 0 0 0 0 0 0 0 1\n",
      " 0 0 0 0 0 0 0] []\n",
      "0\n"
     ]
    }
   ],
   "source": [
    "X1,y1,X2,y2 = tree.split_dataset(X_encoded,y,2,29944)\n",
    "print(y1,y2)\n",
    "print(len(y2))"
   ]
  },
  {
   "cell_type": "code",
   "execution_count": 197,
   "metadata": {},
   "outputs": [],
   "source": []
  },
  {
   "cell_type": "code",
   "execution_count": 97,
   "metadata": {},
   "outputs": [
    {
     "data": {
      "image/png": "[encoded data removed]",
      "text/plain": [
       "<Figure size 1000x1000 with 1 Axes>"
      ]
     },
     "metadata": {},
     "output_type": "display_data"
    }
   ],
   "source": [
    "# 可视化决策树\n",
    "import pydotplus\n",
    "import graphviz\n",
    "import os     \n",
    "os.environ[\"PATH\"] += os.pathsep + 'D:\\\\Apps\\\\anaconda3\\\\Graphviz\\\\bin'\n",
    "\n",
    "dot_data = 'digraph Tree {\\nnode [shape=box] ;\\n'\n",
    "def traverse_tree(node, index):\n",
    "    global dot_data\n",
    "    if node.left is None and node.right is None:\n",
    "        dot_data += f'{index} [label=\"{node.value}\"] ;\\n'\n",
    "        return index\n",
    "    dot_data += f'{index} [label=\"Feature {node.feature}\\\\nThreshold {node.threshold}\"] ;\\n'\n",
    "    left_index = traverse_tree(node.left, index + 1)\n",
    "    right_index = traverse_tree(node.right, left_index + 1)\n",
    "    dot_data += f'{index} -> {left_index} ;\\n'\n",
    "    dot_data += f'{index} -> {right_index} ;\\n'\n",
    "    return right_index + 1\n",
    "\n",
    "traverse_tree(tree.root, 0)\n",
    "dot_data += '}'\n",
    "graph = pydotplus.graph_from_dot_data(dot_data)\n",
    "graph.write_png('decision_tree.png')  # 保存决策树图像为PNG文件\n",
    "\n",
    "# 通过Matplotlib显示决策树图像\n",
    "plt.figure(figsize=(10, 10))\n",
    "plt.imshow(plt.imread('decision_tree.png'))\n",
    "plt.axis('off')\n",
    "plt.show()"
   ]
  },
  {
   "cell_type": "code",
   "execution_count": 98,
   "metadata": {},
   "outputs": [
    {
     "name": "stdout",
     "output_type": "stream",
     "text": [
      "['digraph Tree {', 'node [shape=box, style=\"filled, rounded\", color=\"black\", fontname=\"helvetica\"] ;', 'edge [fontname=\"helvetica\"] ;', '0 [label=<petal length (cm) &le; 2.45<br/>gini = 0.667<br/>samples = 150<br/>value = [50, 50, 50]<br/>class = setosa>, fillcolor=\"#ffffff\"] ;', '1 [label=<gini = 0.0<br/>samples = 50<br/>value = [50, 0, 0]<br/>class = setosa>, fillcolor=\"#e58139\"] ;', '0 -> 1 [labeldistance=2.5, labelangle=45, headlabel=\"True\"] ;', '2 [label=<petal width (cm) &le; 1.75<br/>gini = 0.5<br/>samples = 100<br/>value = [0, 50, 50]<br/>class = versicolor>, fillcolor=\"#ffffff\"] ;', '0 -> 2 [labeldistance=2.5, labelangle=-45, headlabel=\"False\"] ;', '3 [label=<petal length (cm) &le; 4.95<br/>gini = 0.168<br/>samples = 54<br/>value = [0, 49, 5]<br/>class = versicolor>, fillcolor=\"#4de88e\"] ;', '2 -> 3 ;', '4 [label=<gini = 0.041<br/>samples = 48<br/>value = [0, 47, 1]<br/>class = versicolor>, fillcolor=\"#3de684\"] ;', '3 -> 4 ;', '5 [label=<gini = 0.444<br/>samples = 6<br/>value = [0, 2, 4]<br/>class = virginica>, fillcolor=\"#c09cf2\"] ;', '3 -> 5 ;', '6 [label=<petal length (cm) &le; 4.85<br/>gini = 0.043<br/>samples = 46<br/>value = [0, 1, 45]<br/>class = virginica>, fillcolor=\"#843de6\"] ;', '2 -> 6 ;', '7 [label=<gini = 0.444<br/>samples = 3<br/>value = [0, 1, 2]<br/>class = virginica>, fillcolor=\"#c09cf2\"] ;', '6 -> 7 ;', '8 [label=<gini = 0.0<br/>samples = 43<br/>value = [0, 0, 43]<br/>class = virginica>, fillcolor=\"#8139e5\"] ;', '6 -> 8 ;', '}']\n"
     ]
    },
    {
     "ename": "IndexError",
     "evalue": "list index out of range",
     "output_type": "error",
     "traceback": [
      "\u001b[1;31m---------------------------------------------------------------------------\u001b[0m",
      "\u001b[1;31mIndexError\u001b[0m                                Traceback (most recent call last)",
      "Cell \u001b[1;32mIn[98], line 46\u001b[0m\n\u001b[0;32m     43\u001b[0m             current_node \u001b[38;5;241m=\u001b[39m node_id\n\u001b[0;32m     44\u001b[0m     \u001b[38;5;28;01mreturn\u001b[39;00m tree_structure\n\u001b[1;32m---> 46\u001b[0m tree_structure \u001b[38;5;241m=\u001b[39m convert_dot_to_tree(dot_data)\n\u001b[0;32m     48\u001b[0m \u001b[38;5;66;03m# 递归绘制决策树\u001b[39;00m\n\u001b[0;32m     49\u001b[0m \u001b[38;5;28;01mdef\u001b[39;00m \u001b[38;5;21mplot_tree\u001b[39m(tree_structure, node_id):\n",
      "Cell \u001b[1;32mIn[98], line 35\u001b[0m, in \u001b[0;36mconvert_dot_to_tree\u001b[1;34m(dot_data)\u001b[0m\n\u001b[0;32m     33\u001b[0m properties \u001b[38;5;241m=\u001b[39m line\u001b[38;5;241m.\u001b[39msplit(\u001b[38;5;124m'\u001b[39m\u001b[38;5;124m[\u001b[39m\u001b[38;5;124m'\u001b[39m)[\u001b[38;5;241m1\u001b[39m]\u001b[38;5;241m.\u001b[39msplit(\u001b[38;5;124m'\u001b[39m\u001b[38;5;124m]\u001b[39m\u001b[38;5;124m'\u001b[39m)[\u001b[38;5;241m0\u001b[39m]\n\u001b[0;32m     34\u001b[0m \u001b[38;5;28;01mif\u001b[39;00m \u001b[38;5;124m'\u001b[39m\u001b[38;5;124mvalue\u001b[39m\u001b[38;5;124m'\u001b[39m \u001b[38;5;129;01min\u001b[39;00m properties:\n\u001b[1;32m---> 35\u001b[0m     label \u001b[38;5;241m=\u001b[39m properties\u001b[38;5;241m.\u001b[39msplit(\u001b[38;5;124m'\u001b[39m\u001b[38;5;124m\"\u001b[39m\u001b[38;5;124m'\u001b[39m)[\u001b[38;5;241m1\u001b[39m]\n\u001b[0;32m     36\u001b[0m     tree_structure[node_id] \u001b[38;5;241m=\u001b[39m {\u001b[38;5;124m'\u001b[39m\u001b[38;5;124mvalue\u001b[39m\u001b[38;5;124m'\u001b[39m: label, \u001b[38;5;124m'\u001b[39m\u001b[38;5;124mchildren\u001b[39m\u001b[38;5;124m'\u001b[39m: []}\n\u001b[0;32m     37\u001b[0m \u001b[38;5;28;01melse\u001b[39;00m:\n",
      "\u001b[1;31mIndexError\u001b[0m: list index out of range"
     ]
    }
   ],
   "source": [
    "import numpy as np\n",
    "from sklearn.datasets import load_iris\n",
    "from sklearn import tree\n",
    "import graphviz\n",
    "import matplotlib.pyplot as plt\n",
    "\n",
    "# 构建决策树\n",
    "iris = load_iris()\n",
    "X = iris.data\n",
    "y = iris.target\n",
    "\n",
    "clf = tree.DecisionTreeClassifier(max_depth=3)\n",
    "clf.fit(X, y)\n",
    "\n",
    "# 可视化决策树\n",
    "dot_data = tree.export_graphviz(clf, out_file=None,\n",
    "                                feature_names=iris.feature_names,\n",
    "                                class_names=iris.target_names,\n",
    "                                filled=True, rounded=True,\n",
    "                                special_characters=True)\n",
    "\n",
    "graph = graphviz.Source(dot_data)\n",
    "\n",
    "# 将dot源码转换为树状结构\n",
    "def convert_dot_to_tree(dot_data):\n",
    "    lines = dot_data.split('\\n')\n",
    "    print(lines)\n",
    "    tree_structure = {}\n",
    "    current_node = None\n",
    "    for line in lines:\n",
    "        if '[' in line:\n",
    "            node_id = line.split(' ')[0]\n",
    "            properties = line.split('[')[1].split(']')[0]\n",
    "            if 'value' in properties:\n",
    "                label = properties.split('\"')[1]\n",
    "                tree_structure[node_id] = {'value': label, 'children': []}\n",
    "            else:\n",
    "                feature = properties.split('=')[0]\n",
    "                threshold = properties.split('=')[1].replace('<=', '<=').replace('>', '>')\n",
    "                tree_structure[node_id] = {'feature': feature, 'threshold': threshold, 'children': []}\n",
    "            if current_node is not None:\n",
    "                tree_structure[current_node]['children'].append(node_id)\n",
    "            current_node = node_id\n",
    "    return tree_structure\n",
    "\n",
    "tree_structure = convert_dot_to_tree(dot_data)\n",
    "\n",
    "# 递归绘制决策树\n",
    "def plot_tree(tree_structure, node_id):\n",
    "    node = tree_structure[node_id]\n",
    "    if 'value' in node:\n",
    "        return node['value']\n",
    "    else:\n",
    "        feature = node['feature']\n",
    "        threshold = node['threshold']\n",
    "        children = node['children']\n",
    "        child_labels = [plot_tree(tree_structure, child_id) for child_id in children]\n",
    "        label = f'{feature}\\n{threshold}'\n",
    "        return [label] + child_labels\n",
    "\n",
    "tree_plot_data = plot_tree(tree_structure, '0')\n",
    "\n",
    "def tree_plot(ax, node, x, y, dx, dy):\n",
    "    if isinstance(node, list):\n",
    "        num_items = len(node)\n",
    "        y_step = dy / (num_items + 1)\n",
    "        y_start = y - dy / 2 + y_step / 2\n",
    "        for i, item in enumerate(node):\n",
    "            ax.text(x, y_start + i * y_step, item, ha='center', va='center')\n",
    "            ax.plot([x, x - dx], [y - i * y_step, y - y_step], '-k')\n",
    "    else:\n",
    "        ax.text(x, y, node, ha='center', va='center')\n",
    "\n",
    "        if 'children' in tree_structure[node]:\n",
    "            children = tree_structure[node]['children']\n",
    "            num_children = len(children)\n",
    "            x_step = dx / (num_children + 1)\n",
    "            x_start = x - dx / 2 + x_step / 2\n",
    "            for i, child in enumerate(children):\n",
    "                ax.plot([x, x - x_step], [y, y - dy], '-k')\n",
    "                tree_plot(ax, child, x_start + i * x_step, y - dy, dx / 2, dy)\n",
    "\n",
    "fig, ax = plt.subplots(figsize=(8, 8))\n",
    "ax.set_axis_off()\n",
    "ax.set_xlim(0, 1)\n",
    "ax.set_ylim(0, 1)\n",
    "tree_plot(ax, tree_plot_data, 0.5, 1, 1, 0)\n",
    "plt.show()"
   ]
  },
  {
   "cell_type": "code",
   "execution_count": null,
   "metadata": {},
   "outputs": [
    {
     "data": {
      "text/plain": [
       "1"
      ]
     },
     "execution_count": 54,
     "metadata": {},
     "output_type": "execute_result"
    }
   ],
   "source": [
    "a = np.array([0,1,0,1,1,1,0])\n",
    "np.argmax(np.bincount(a))"
   ]
  },
  {
   "cell_type": "code",
   "execution_count": null,
   "metadata": {},
   "outputs": [
    {
     "data": {
      "text/plain": [
       "array([1, 1])"
      ]
     },
     "execution_count": 69,
     "metadata": {},
     "output_type": "execute_result"
    }
   ],
   "source": [
    "a = np.array([1,0,1])\n",
    "mask = a == 1\n",
    "a[mask]"
   ]
  },
  {
   "cell_type": "code",
   "execution_count": null,
   "metadata": {},
   "outputs": [
    {
     "name": "stdout",
     "output_type": "stream",
     "text": [
      "best_feature =2 ,best_threshold=1.9 , depth=0 \n"
     ]
    },
    {
     "data": {
      "image/png": "[encoded data removed]",
      "text/plain": [
       "<Figure size 1000x1000 with 1 Axes>"
      ]
     },
     "metadata": {},
     "output_type": "display_data"
    }
   ],
   "source": [
    "import numpy as np\n",
    "from sklearn.datasets import load_iris\n",
    "import pydotplus\n",
    "from IPython.display import Image\n",
    "import matplotlib.pyplot as plt\n",
    "\n",
    "#定义节点类和决策树类（使用之前提供的代码）\n",
    "\n",
    "#构建决策树\n",
    "iris = load_iris()\n",
    "X = iris.data\n",
    "y = iris.target\n",
    "\n",
    "tree = DecisionTree(max_depth=3, min_samples_split=1)\n",
    "tree.fit(X, y)\n",
    "\n",
    "# 可视化决策树\n",
    "dot_data = 'digraph Tree {\\nnode [shape=box] ;\\n'\n",
    "def traverse_tree(node, index):\n",
    "    global dot_data\n",
    "    if node.left is None and node.right is None:\n",
    "        dot_data += f'{index} [label=\"{node.value}\"] ;\\n'\n",
    "        return index\n",
    "    dot_data += f'{index} [label=\"Feature {node.feature}\\\\nThreshold {node.threshold}\"] ;\\n'\n",
    "    left_index = traverse_tree(node.left, index + 1)\n",
    "    right_index = traverse_tree(node.right, left_index + 1)\n",
    "    dot_data += f'{index} -> {left_index} ;\\n'\n",
    "    dot_data += f'{index} -> {right_index} ;\\n'\n",
    "    return right_index + 1\n",
    "\n",
    "traverse_tree(tree.root, 0)\n",
    "dot_data += '}'\n",
    "graph = pydotplus.graph_from_dot_data(dot_data)\n",
    "graph.write_png('decision_tree.png')  # 保存决策树图像为PNG文件\n",
    "\n",
    "# 通过Matplotlib显示决策树图像\n",
    "plt.figure(figsize=(10, 10))\n",
    "plt.imshow(plt.imread('decision_tree.png'))\n",
    "plt.axis('off')\n",
    "plt.show()"
   ]
  },
  {
   "cell_type": "code",
   "execution_count": null,
   "metadata": {},
   "outputs": [
    {
     "name": "stdout",
     "output_type": "stream",
     "text": [
      "[0 0 0 0 0 0 0 0 0 0 1 0 1 0 0 0 1 0 0 1 0 1 0 0 0 0 0 0 1 0 0 0 0 0 1 0 1\n",
      " 0 1 0 0 0 0 0 0 0 0 0 1 0 0 0 0 1 0 1 0 0 1 0 0 1 0 0 0 0 0 0 1 0 0 0 0 0\n",
      " 0 0 0 0 0 1 0 0 0 0 0 1 0 1 0 1 0 0 0 1 1 0 1 0 1 0 0 0 0 0 0 0 1 0 0 0 1\n",
      " 0 0 0 1 0 0 0 1 0 0 1 1 1 0 0 1 0 0 0 0 0 0 0 0 1 0 1 0 0 1 0 0 1 0 0 0 0\n",
      " 0 0 0 0 1 1 1 0 0 0 1 0 0 0 0 1 0 0 0 0 1 0 0 1 1 0 0 0 0 0 0 1 0 1 1 0 0\n",
      " 0 0 0 1 0 0 0 0 0 1 0 1 0 0 1 0 0 0 0 1 1 0 1 0 0 0 0 0 0 0 0 0 0 0 1 0 0\n",
      " 0 0 0 0 0 0 1 0 1 0 1 1 0 0 0 1 0 0 0 1 0 0 0 0 0 1 1 0 0 0 0 0 0 0 0 0 0\n",
      " 1 0 0 0 0 0 1 0 1 0 0 0 0 0 0 0 0 0 0 1 0 1 0 0 0 1 0 0 0 1 0 0 0 1 0 0 0\n",
      " 0 0 0 0 0 1 0 0 0 0 0 0 0 0 0 0 0 0 0 1 0 0 0 0 0 0 0 0 0 0 1 1 0 1 0 1 0\n",
      " 1 0 0 0 1 1 1 0 0 0 0 0 0 1 1 0 1 0 0 1 0 1 0 1 1 0 0 0 0 1 1 0 0 0 1 0 0\n",
      " 0 0 0 0 0 0 0 0 0 1 0 0 0 0 0 0 0 0 0 0 0 0 1 0 0 0 0 0 1 0 0 0 0 0 0 0 0\n",
      " 0 0 0 0 0 0 0 0 0 0 0 0 0 0 0 0 0 0 0 0 0 1 0 0 0 0 1 1 0 0 1 1 1 0 0 0 1\n",
      " 1 0 1 0 0 0 0 0 0 0 0 0 0 1 1 1 0 0 1 0 0 1 0 0 0 0 0 1 0 0 0 0 0 0 0 0 0\n",
      " 0 0 1 0 0 0 0 0 0 0 1 0 1 0 0 0 0 0 0 0 0 0 0 0 0 1 0 0 1 0 0 0 0 0 0 0 1\n",
      " 0 0 0 0 0 0 1 0 1 0 0 0 0 0 0 1 0 0 0 0 0 0 1 1 0 0 1 0 0 0 0 0 0 0 0 0 0\n",
      " 0 0 1 0 0 0 0 0 0 0 0 0 1 0 0 0 0 0 0 0 1 0 0 0 0 0 0 0 0 0 0 0 0 0 0 0 1\n",
      " 0 0 0 0 0 0 0]\n"
     ]
    }
   ],
   "source": [
    "print(y)"
   ]
  },
  {
   "cell_type": "code",
   "execution_count": null,
   "metadata": {},
   "outputs": [
    {
     "name": "stdout",
     "output_type": "stream",
     "text": [
      "<class 'numpy.ndarray'>\n"
     ]
    },
    {
     "data": {
      "text/plain": [
       "0.4444444444444444"
      ]
     },
     "execution_count": 58,
     "metadata": {},
     "output_type": "execute_result"
    }
   ],
   "source": [
    "labes=['有风险','好','有风险']\n",
    "def gini(labels):\n",
    "    # 计算Gini指数\n",
    "    _, counts = np.unique(labels, return_counts=True)\n",
    "    print(type(counts))\n",
    "    probs = counts / len(labels)\n",
    "    gini = 1 - np.sum(probs ** 2)\n",
    "    return gini\n",
    "gini(labes)"
   ]
  },
  {
   "cell_type": "code",
   "execution_count": null,
   "metadata": {},
   "outputs": [
    {
     "ename": "NameError",
     "evalue": "name 'split_dataset' is not defined",
     "output_type": "error",
     "traceback": [
      "\u001b[1;31m---------------------------------------------------------------------------\u001b[0m",
      "\u001b[1;31mNameError\u001b[0m                                 Traceback (most recent call last)",
      "Cell \u001b[1;32mIn[79], line 20\u001b[0m\n\u001b[0;32m     18\u001b[0m                 gini \u001b[38;5;241m=\u001b[39m tmp_gini,best_threshold \u001b[38;5;241m=\u001b[39m threshold, best_feature \u001b[38;5;241m=\u001b[39m i\n\u001b[0;32m     19\u001b[0m     \u001b[38;5;28;01mreturn\u001b[39;00m best_feature,best_threshold,gini\n\u001b[1;32m---> 20\u001b[0m \u001b[43mget_best_split\u001b[49m\u001b[43m(\u001b[49m\u001b[43mX\u001b[49m\u001b[43m,\u001b[49m\u001b[43my\u001b[49m\u001b[43m)\u001b[49m\n",
      "Cell \u001b[1;32mIn[79], line 15\u001b[0m, in \u001b[0;36mget_best_split\u001b[1;34m(X, y)\u001b[0m\n\u001b[0;32m     13\u001b[0m thresholds \u001b[38;5;241m=\u001b[39m np\u001b[38;5;241m.\u001b[39munique(X[:,i])\n\u001b[0;32m     14\u001b[0m \u001b[38;5;28;01mfor\u001b[39;00m threshold \u001b[38;5;129;01min\u001b[39;00m thresholds:\n\u001b[1;32m---> 15\u001b[0m     X_left,y_left,X_right,y_right \u001b[38;5;241m=\u001b[39m \u001b[43msplit_dataset\u001b[49m(X,y,i,threshold)\n\u001b[0;32m     16\u001b[0m     tmp_gini \u001b[38;5;241m=\u001b[39m (\u001b[38;5;28mlen\u001b[39m(y_left)\u001b[38;5;241m*\u001b[39mgini_index(y_left) \u001b[38;5;241m+\u001b[39m \u001b[38;5;28mlen\u001b[39m(y_right)\u001b[38;5;241m*\u001b[39mgini_index(y_right))\u001b[38;5;241m/\u001b[39m\u001b[38;5;28mlen\u001b[39m(y)\n\u001b[0;32m     17\u001b[0m     \u001b[38;5;28;01mif\u001b[39;00m tmp_gini \u001b[38;5;241m<\u001b[39m gini:\n",
      "\u001b[1;31mNameError\u001b[0m: name 'split_dataset' is not defined"
     ]
    }
   ],
   "source": [
    "# def split(X,y,feature,threshold):\n",
    "#     left_mask = X[:,feature] <= threshold\n",
    "#     right_mask = X[:,feature] > threshold\n",
    "#     return X[left_mask],y[left_mask],X[right_mask],y[right_mask]\n",
    "# for feature in range(X.shape[1]):\n",
    "#     thresholds = np.unique(X[:, feature])\n",
    "#     print(thresholds)\n",
    "#     for threshold in thresholds:\n",
    "#         X_left, y_left, X_right, y_right = split(X, y, feature, threshold)\n",
    "def get_best_split(X,y):\n",
    "    best_feature,best_threshold, gini =None, None, np.inf\n",
    "    for i in range(X.shape[1]):\n",
    "        thresholds = np.unique(X[:,i])\n",
    "        for threshold in thresholds:\n",
    "            X_left,y_left,X_right,y_right = split_dataset(X,y,i,threshold)\n",
    "            tmp_gini = (len(y_left)*gini_index(y_left) + len(y_right)*gini_index(y_right))/len(y)\n",
    "            if tmp_gini < gini:\n",
    "                gini = tmp_gini,best_threshold = threshold, best_feature = i\n",
    "    return best_feature,best_threshold,gini\n",
    "get_best_split(X,y)"
   ]
  },
  {
   "cell_type": "code",
   "execution_count": null,
   "metadata": {},
   "outputs": [
    {
     "name": "stdout",
     "output_type": "stream",
     "text": [
      "False\n"
     ]
    }
   ],
   "source": [
    "a = np.array([1,2,3])\n",
    "print(list(a)==None)"
   ]
  },
  {
   "cell_type": "code",
   "execution_count": null,
   "metadata": {},
   "outputs": [],
   "source": [
    "import numpy as np\n",
    "\n",
    "# 定义节点类\n",
    "class Node:\n",
    "    def __init__(self, feature=None, threshold=None, label=None):\n",
    "        self.feature = feature  # 分割特征的索引\n",
    "        self.threshold = threshold  # 分割特征的阈值\n",
    "        self.label = label  # 叶节点的类别\n",
    "        self.left = None  # 左子树\n",
    "        self.right = None  # 右子树\n",
    "\n",
    "# 定义决策树类\n",
    "class DecisionTree:\n",
    "    def __init__(self):\n",
    "        self.root = None  # 根节点\n",
    "\n",
    "    def gini_index(self, labels):\n",
    "        # 计算Gini指数\n",
    "        _, counts = np.unique(labels, return_counts=True)\n",
    "        probs = counts / len(labels)\n",
    "        gini = 1 - np.sum(probs ** 2)\n",
    "        return gini\n",
    "\n",
    "    def split_dataset(self, X, y, feature, threshold):\n",
    "        # 根据特征和阈值分割数据集\n",
    "        left_mask = X[:, feature] <= threshold\n",
    "        right_mask = X[:, feature] > threshold\n",
    "        X_left, y_left = X[left_mask], y[left_mask]\n",
    "        X_right, y_right = X[right_mask], y[right_mask]\n",
    "        return X_left, y_left, X_right, y_right\n",
    "\n",
    "    def select_best_split(self, X, y):\n",
    "        # 选择最佳的分割特征和阈值\n",
    "        best_feature, best_threshold, best_gini = None, None, np.inf\n",
    "        for feature in range(X.shape[1]):\n",
    "            thresholds = np.unique(X[:, feature])\n",
    "            for threshold in thresholds:\n",
    "                X_left, y_left, X_right, y_right = self.split_dataset(X, y, feature, threshold)\n",
    "                gini = (len(y_left) * self.gini_index(y_left) + len(y_right) * self.gini_index(y_right)) / len(y)\n",
    "                if gini < best_gini:\n",
    "                    best_feature, best_threshold, best_gini = feature, threshold, gini\n",
    "        return best_feature, best_threshold\n",
    "\n",
    "    def build_tree(self, X, y):\n",
    "        # 递归构建决策树\n",
    "        if len(np.unique(y)) == 1:\n",
    "            # 所有样本属于同一类别，创建叶节点\n",
    "            return Node(label=y[0])\n",
    "        best_feature, best_threshold = self.select_best_split(X, y)\n",
    "        if best_feature is None or best_threshold is None:\n",
    "            # 无法继续分割，创建叶节点，选择类别最多的类别作为标签\n",
    "            label = np.argmax(np.bincount(y))\n",
    "            return Node(label=label)\n",
    "        X_left, y_left, X_right, y_right = self.split_dataset(X, y, best_feature, best_threshold)\n",
    "        node = Node(feature=best_feature, threshold=best_threshold)\n",
    "        node.left = self.build_tree(X_left, y_left)\n",
    "        node.right = self.build_tree(X_right, y_right)\n",
    "        return node\n",
    "\n",
    "    def prune_tree(self, node, X, y):\n",
    "        if node.left is None and node.right is None:\n",
    "            # 叶节点，无法剪枝\n",
    "            return\n",
    "        if node.left is not None:\n",
    "            self.prune_tree(node.left, X, y)\n",
    "        if node.right is not None:\n",
    "            self.prune_tree(node.right, X, y)\n",
    "        # 尝试剪枝\n",
    "        if node.left is not None and node.right is not None:\n",
    "            # 计算剪枝前的误分类错误率\n",
    "            y_pred = self.predict(X)\n",
    "            error_before = np.sum(y_pred != y) / len(y)\n",
    "            # 剪枝后的误分类错误率\n",
    "            node.left = None\n",
    "            node.right = None\n",
    "            y_pred = self.predict(X)\n",
    "            error_after = np.sum(y_pred != y) / len(y)\n",
    "            if error_after >= error_before:\n",
    "                # 剪枝后的错误率增加，恢复剪枝前的子树\n",
    "                node.left = self.build_tree(X_left, y_left)\n",
    "                node.right = self.build_tree(X_right, y_right)\n",
    "                \n",
    "\n",
    "    def fit(self, X, y):\n",
    "        self.root = self.build_tree(X, y)\n",
    "\n",
    "    def predict(self, X):\n",
    "        y_pred = np.zeros(X.shape[0])\n",
    "        for i, sample in enumerate(X):\n",
    "            node = self.root\n",
    "            while node.left is not None and node.right is not None:\n",
    "                if sample[node.feature] <= node.threshold:\n",
    "                    node = node.left\n",
    "                else:\n",
    "                    node = node.right\n",
    "            y_pred[i] = node.label\n",
    "        return y_pred\n",
    "\n",
    "# 构建决策树并剪枝\n",
    "data = np.array([['NO', 'Single', '68833', '10', 'YES'],\n",
    "                ['YES', 'Divorced', '33700', '18', 'YES'],\n",
    "                ['NO', 'Married', '36925', '30', 'YES'],\n",
    "                ['YES', 'Divorced', '69967', '2', 'YES'],\n",
    "                ['NO', 'Divorced', '47334', '0', 'YES'],\n",
    "                ['YES', 'Married', '98592', '17', 'NO']])\n",
    "\n",
    "labels = np.array(['Undergrad', 'MaritalStatus', 'TaxableIncome', 'WorkExperience', 'Urban'])\n",
    "\n",
    "X = data[:, :-1]  # 特征向量\n",
    "y = data[:, -1]  # 类别标签\n",
    "\n",
    "# 将文本特征转换为数值特征\n",
    "X_encoded = np.zeros(X.shape)\n",
    "for i in range(X.shape[1]):\n",
    "    unique_labels = np.unique(X[:, i])\n",
    "    label_mapping = {label: j for j, label in enumerate(unique_labels)}\n",
    "    X_encoded[:, i] = np.array([label_mapping[label] for label in X[:, i]])\n",
    "\n",
    "tree = DecisionTree()\n",
    "tree.fit(X_encoded, y)\n",
    "\n",
    "# 执行剪枝\n",
    "tree.prune_tree(tree.root, X_encoded, y)\n",
    "\n",
    "# 预测新样本\n",
    "new_sample = np.array(['NO', 'Single', '68833', '10'])\n",
    "new_sample_encoded = np.zeros(new_sample.shape)\n",
    "for i in range(new_sample.shape[0]):\n",
    "    new_sample_encoded[i] = label_mapping[new_sample[i]]\n",
    "prediction = tree.predict(new_sample_encoded.reshape(1, -1))\n",
    "print(prediction)"
   ]
  }
 ],
 "metadata": {
  "kernelspec": {
   "display_name": "pytorch",
   "language": "python",
   "name": "python3"
  },
  "language_info": {
   "codemirror_mode": {
    "name": "ipython",
    "version": 3
   },
   "file_extension": ".py",
   "mimetype": "text/x-python",
   "name": "python",
   "nbconvert_exporter": "python",
   "pygments_lexer": "ipython3",
   "version": "3.11.5"
  }
 },
 "nbformat": 4,
 "nbformat_minor": 2
}
